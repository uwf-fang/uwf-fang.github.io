{
  "nbformat": 4,
  "nbformat_minor": 0,
  "metadata": {
    "colab": {
      "provenance": [],
      "toc_visible": true
    },
    "kernelspec": {
      "name": "python3",
      "display_name": "Python 3"
    },
    "language_info": {
      "name": "python"
    }
  },
  "cells": [
    {
      "cell_type": "markdown",
      "source": [
        "# Module 4: PySpark Programming For Biginners\n"
      ],
      "metadata": {
        "id": "nZHxhrB6RSfM"
      }
    },
    {
      "cell_type": "markdown",
      "source": [
        "## Install and initialize"
      ],
      "metadata": {
        "id": "a0teY5ZOR2VF"
      }
    },
    {
      "cell_type": "code",
      "execution_count": null,
      "metadata": {
        "id": "nrf3m7auROVz"
      },
      "outputs": [],
      "source": [
        "!pip install pyspark\n",
        "from pyspark.sql import SparkSession\n",
        "\n",
        "# Create a Spark Context\n",
        "sc = SparkSession.builder.master(\"local[*]\").appName(\"Test\").getOrCreate().sparkContext"
      ]
    },
    {
      "cell_type": "markdown",
      "source": [
        "## Python \n",
        "### Lambda function examples\n",
        "In the demonstration, the **map** function takes a function and a list as parameters. It will apply the function to each element in the list to give a new list.\n",
        "\n",
        "The **reduce** function takes a function and a list as parameters. It will apply the function repeatedly to the element in the list. It will aggregate values in a list to give a single value.\n",
        "\n",
        "The result is converted to list for printint. "
      ],
      "metadata": {
        "id": "Wt7vurx8SBMS"
      }
    },
    {
      "cell_type": "code",
      "source": [
        "# Square function\n",
        "l1 = [1, 2, 3]\n",
        "print(list(\n",
        "    map(lambda x: x*x, l1)\n",
        "    ))\n",
        "\n",
        "# Split line to words, space as delimiter\n",
        "lines = ['line 1 text', 'line 2 text']\n",
        "print(list(\n",
        "    map(lambda line: line.split(), lines)\n",
        "    ))\n",
        "\n",
        "# Split multi-line text into lines\n",
        "paragraphs = [\n",
        "''' paragraph 1\n",
        "line 1''',\n",
        "''' paragraph 2.\n",
        "line 2'''\n",
        "]\n",
        "print(list(\n",
        "    map(lambda paragraph: paragraph.split('\\n'), paragraphs)\n",
        "    ))\n",
        "\n",
        "# Words to key-value pairs\n",
        "words = ['apple', 'sheep', 'peach', 'wolf']\n",
        "print(list(\n",
        "    map(lambda word: (word, 1), words)\n",
        "))\n",
        "\n",
        "# Get first/second elements from pairs\n",
        "pairs = [('apple', 1), ('sheep', 1), ('peach', 1), ('wolf', 1)]\n",
        "print(list(\n",
        "    map(lambda p: p[0], pairs)\n",
        "))\n",
        "print(list(\n",
        "    map(lambda p: p[1], pairs)\n",
        "))\n"
      ],
      "metadata": {
        "id": "0kuI5izxSJ5L"
      },
      "execution_count": null,
      "outputs": []
    },
    {
      "cell_type": "code",
      "source": [
        "from functools import reduce\n",
        "#Reduce by add\n",
        "l1 = [1, 3, 5, 7]\n",
        "print(\n",
        "    reduce(lambda a, b: a+b, l1)\n",
        ")\n"
      ],
      "metadata": {
        "id": "PLpxelZDVMMo"
      },
      "execution_count": null,
      "outputs": []
    },
    {
      "cell_type": "markdown",
      "source": [
        "## RDD"
      ],
      "metadata": {
        "id": "PgjM_3NNXAsq"
      }
    },
    {
      "cell_type": "code",
      "source": [
        "rdd = sc.parallelize([\n",
        "    1, 2, 3, 4\n",
        "])\n",
        "squared = rdd.map(lambda x: x*x)\n",
        "print(squared.collect())  # Get all\n",
        "print(squared.take(3))  # Get the first three\n",
        "print(squared.first())\n",
        "print(squared.count())\n",
        "print(squared.sum())\n",
        "print(squared.mean())\n",
        "print(squared.min())\n",
        "print(squared.max())"
      ],
      "metadata": {
        "id": "_CpJXA9OXN-X"
      },
      "execution_count": null,
      "outputs": []
    },
    {
      "cell_type": "code",
      "source": [
        "text = '''word count from Wikipedia the free encyclopedia\n",
        "the word count is the number of words in a document or passage of text Word counting may be needed when a text\n",
        "is required to stay within certain numbers of words This may particularly be the case in academia legal\n",
        "proceedings journalism and advertising Word count is commonly used by translators to determine the price for\n",
        "the translation job Word counts may also be used to calculate measures of readability and to measure typing\n",
        "and reading speeds usually in words per minute When converting character counts to words a measure of five or\n",
        "six characters to a word is generally used Contents Details and variations of definition Software In fiction\n",
        "In non fiction See also References Sources External links Details and variations of definition\n",
        "This section does not cite any references or sources Please help improve this section by adding citations to\n",
        "reliable sources Unsourced material may be challenged and removed\n",
        "Variations in the operational definitions of how to count the words can occur namely what counts as a word and\n",
        "which words don't count toward the total However especially since the advent of widespread word processing there\n",
        "is a broad consensus on these operational definitions and hence the bottom line integer result\n",
        "The consensus is to accept the text segmentation rules generally found in most word processing software including how\n",
        "word boundaries are determined which depends on how word dividers are defined The first trait of that definition is that a space any of various whitespace\n",
        "characters such as a regular word space an em space or a tab character is a word divider Usually a hyphen or a slash is too\n",
        "Different word counting programs may give varying results depending on the text segmentation rule\n",
        "details and on whether words outside the main text such as footnotes endnotes or hidden text) are counted But the behavior\n",
        "of most major word processing applications is broadly similar However during the era when school assignments were done in\n",
        "handwriting or with typewriters the rules for these definitions often differed from todays consensus\n",
        "Most importantly many students were drilled on the rule that certain words don't count usually articles namely a an the but\n",
        "sometimes also others such as conjunctions for example and or but and some prepositions usually to of Hyphenated permanent\n",
        "compounds such as follow up noun or long term adjective were counted as one word To save the time and effort of counting\n",
        "word by word often a rule of thumb for the average number of words per line was used such as 10 words per line These rules\n",
        "have fallen by the wayside in the word processing era the word count feature of such software which follows the text\n",
        "segmentation rules mentioned earlier is now the standard arbiter because it is largely consistent across documents and\n",
        "applications and because it is fast effortless and costless already included with the application As for which sections of\n",
        "a document count toward the total such as footnotes endnotes abstracts reference lists and bibliographies tables figure\n",
        "captions hidden text the person in charge teacher client can define their choice and users students workers can simply\n",
        "select or exclude the elements accordingly and watch the word count automatically update Software Modern web browsers\n",
        "support word counting via extensions via a JavaScript bookmarklet or a script that is hosted in a website Most word\n",
        "processors can also count words Unix like systems include a program wc specifically for word counting\n",
        "As explained earlier different word counting programs may give varying results depending on the text segmentation rule\n",
        "details The exact number of words often is not a strict requirement thus the variation is acceptable\n",
        "In fiction Novelist Jane Smiley suggests that length is an important quality of the novel However novels can vary\n",
        "tremendously in length Smiley lists novels as typically being between and words while National Novel Writing Month\n",
        "requires its novels to be at least words There are no firm rules for example the boundary between a novella and a novel\n",
        "is arbitrary and a literary work may be difficult to categorise But while the length of a novel is to a large extent up\n",
        "to its writer lengths may also vary by subgenre many chapter books for children start at a length of about words and a\n",
        "typical mystery novel might be in the to word range while a thriller could be over words\n",
        "The Science Fiction and Fantasy Writers of America specifies word lengths for each category of its Nebula award categories\n",
        "Classification\tWord count Novel over words Novella to words Novelette to words Short story under words\n",
        "In non fiction The acceptable length of an academic dissertation varies greatly dependent predominantly on the subject\n",
        "Numerous American universities limit Ph.D. dissertations to at most words barring special permission for exceeding this limit\n",
        "'''\n",
        "\n",
        "# Split by new line character and parallelize\n",
        "lines = sc.parallelize(text.split('\\n'))\n",
        "print(\"collection of lines:\")\n",
        "print(lines.collect())\n",
        "\n",
        "# map to list of words\n",
        "words = lines.map(lambda line: line.split())\n",
        "print(\"\\ncollection of words, not flattened:\")\n",
        "print(words.collect())\n",
        "\n",
        "# Flap map to lower case words\n",
        "words = lines.flatMap(lambda line: line.split()).map(lambda word: word.lower())\n",
        "print(\"\\ncollection of words, flattened:\")\n",
        "print(words.collect())\n",
        "print('\\ncounts of words')\n",
        "counts = words.countByValue()\n",
        "print(counts)\n",
        "\n",
        "# words to pairs\n",
        "pairs = words.map(lambda word: (word, 1))\n",
        "print('\\ncollection of pairs')\n",
        "print(pairs.collect())"
      ],
      "metadata": {
        "colab": {
          "base_uri": "https://localhost:8080/"
        },
        "id": "ruoMO8DMXq53",
        "outputId": "6817ab2a-8e14-4edc-c416-6e9792d792f0"
      },
      "execution_count": 36,
      "outputs": [
        {
          "output_type": "stream",
          "name": "stdout",
          "text": [
            "collection of lines:\n",
            "['word count from Wikipedia the free encyclopedia', 'the word count is the number of words in a document or passage of text Word counting may be needed when a text', 'is required to stay within certain numbers of words This may particularly be the case in academia legal', 'proceedings journalism and advertising Word count is commonly used by translators to determine the price for', 'the translation job Word counts may also be used to calculate measures of readability and to measure typing', 'and reading speeds usually in words per minute When converting character counts to words a measure of five or', 'six characters to a word is generally used Contents Details and variations of definition Software In fiction', 'In non fiction See also References Sources External links Details and variations of definition', 'This section does not cite any references or sources Please help improve this section by adding citations to', 'reliable sources Unsourced material may be challenged and removed', 'Variations in the operational definitions of how to count the words can occur namely what counts as a word and', \"which words don't count toward the total However especially since the advent of widespread word processing there\", 'is a broad consensus on these operational definitions and hence the bottom line integer result', 'The consensus is to accept the text segmentation rules generally found in most word processing software including how', 'word boundaries are determined which depends on how word dividers are defined The first trait of that definition is that a space any of various whitespace', 'characters such as a regular word space an em space or a tab character is a word divider Usually a hyphen or a slash is too', 'Different word counting programs may give varying results depending on the text segmentation rule', 'details and on whether words outside the main text such as footnotes endnotes or hidden text) are counted But the behavior', 'of most major word processing applications is broadly similar However during the era when school assignments were done in', 'handwriting or with typewriters the rules for these definitions often differed from todays consensus', \"Most importantly many students were drilled on the rule that certain words don't count usually articles namely a an the but\", 'sometimes also others such as conjunctions for example and or but and some prepositions usually to of Hyphenated permanent', 'compounds such as follow up noun or long term adjective were counted as one word To save the time and effort of counting', 'word by word often a rule of thumb for the average number of words per line was used such as 10 words per line These rules', 'have fallen by the wayside in the word processing era the word count feature of such software which follows the text', 'segmentation rules mentioned earlier is now the standard arbiter because it is largely consistent across documents and', 'applications and because it is fast effortless and costless already included with the application As for which sections of', 'a document count toward the total such as footnotes endnotes abstracts reference lists and bibliographies tables figure', 'captions hidden text the person in charge teacher client can define their choice and users students workers can simply', 'select or exclude the elements accordingly and watch the word count automatically update Software Modern web browsers', 'support word counting via extensions via a JavaScript bookmarklet or a script that is hosted in a website Most word', 'processors can also count words Unix like systems include a program wc specifically for word counting', 'As explained earlier different word counting programs may give varying results depending on the text segmentation rule', 'details The exact number of words often is not a strict requirement thus the variation is acceptable', 'In fiction Novelist Jane Smiley suggests that length is an important quality of the novel However novels can vary', 'tremendously in length Smiley lists novels as typically being between and words while National Novel Writing Month', 'requires its novels to be at least words There are no firm rules for example the boundary between a novella and a novel', 'is arbitrary and a literary work may be difficult to categorise But while the length of a novel is to a large extent up', 'to its writer lengths may also vary by subgenre many chapter books for children start at a length of about words and a', 'typical mystery novel might be in the to word range while a thriller could be over words', 'The Science Fiction and Fantasy Writers of America specifies word lengths for each category of its Nebula award categories', 'Classification\\tWord count Novel over words Novella to words Novelette to words Short story under words', 'In non fiction The acceptable length of an academic dissertation varies greatly dependent predominantly on the subject', 'Numerous American universities limit Ph.D. dissertations to at most words barring special permission for exceeding this limit', '']\n",
            "\n",
            "collection of words, not flattened:\n",
            "[['word', 'count', 'from', 'Wikipedia', 'the', 'free', 'encyclopedia'], ['the', 'word', 'count', 'is', 'the', 'number', 'of', 'words', 'in', 'a', 'document', 'or', 'passage', 'of', 'text', 'Word', 'counting', 'may', 'be', 'needed', 'when', 'a', 'text'], ['is', 'required', 'to', 'stay', 'within', 'certain', 'numbers', 'of', 'words', 'This', 'may', 'particularly', 'be', 'the', 'case', 'in', 'academia', 'legal'], ['proceedings', 'journalism', 'and', 'advertising', 'Word', 'count', 'is', 'commonly', 'used', 'by', 'translators', 'to', 'determine', 'the', 'price', 'for'], ['the', 'translation', 'job', 'Word', 'counts', 'may', 'also', 'be', 'used', 'to', 'calculate', 'measures', 'of', 'readability', 'and', 'to', 'measure', 'typing'], ['and', 'reading', 'speeds', 'usually', 'in', 'words', 'per', 'minute', 'When', 'converting', 'character', 'counts', 'to', 'words', 'a', 'measure', 'of', 'five', 'or'], ['six', 'characters', 'to', 'a', 'word', 'is', 'generally', 'used', 'Contents', 'Details', 'and', 'variations', 'of', 'definition', 'Software', 'In', 'fiction'], ['In', 'non', 'fiction', 'See', 'also', 'References', 'Sources', 'External', 'links', 'Details', 'and', 'variations', 'of', 'definition'], ['This', 'section', 'does', 'not', 'cite', 'any', 'references', 'or', 'sources', 'Please', 'help', 'improve', 'this', 'section', 'by', 'adding', 'citations', 'to'], ['reliable', 'sources', 'Unsourced', 'material', 'may', 'be', 'challenged', 'and', 'removed'], ['Variations', 'in', 'the', 'operational', 'definitions', 'of', 'how', 'to', 'count', 'the', 'words', 'can', 'occur', 'namely', 'what', 'counts', 'as', 'a', 'word', 'and'], ['which', 'words', \"don't\", 'count', 'toward', 'the', 'total', 'However', 'especially', 'since', 'the', 'advent', 'of', 'widespread', 'word', 'processing', 'there'], ['is', 'a', 'broad', 'consensus', 'on', 'these', 'operational', 'definitions', 'and', 'hence', 'the', 'bottom', 'line', 'integer', 'result'], ['The', 'consensus', 'is', 'to', 'accept', 'the', 'text', 'segmentation', 'rules', 'generally', 'found', 'in', 'most', 'word', 'processing', 'software', 'including', 'how'], ['word', 'boundaries', 'are', 'determined', 'which', 'depends', 'on', 'how', 'word', 'dividers', 'are', 'defined', 'The', 'first', 'trait', 'of', 'that', 'definition', 'is', 'that', 'a', 'space', 'any', 'of', 'various', 'whitespace'], ['characters', 'such', 'as', 'a', 'regular', 'word', 'space', 'an', 'em', 'space', 'or', 'a', 'tab', 'character', 'is', 'a', 'word', 'divider', 'Usually', 'a', 'hyphen', 'or', 'a', 'slash', 'is', 'too'], ['Different', 'word', 'counting', 'programs', 'may', 'give', 'varying', 'results', 'depending', 'on', 'the', 'text', 'segmentation', 'rule'], ['details', 'and', 'on', 'whether', 'words', 'outside', 'the', 'main', 'text', 'such', 'as', 'footnotes', 'endnotes', 'or', 'hidden', 'text)', 'are', 'counted', 'But', 'the', 'behavior'], ['of', 'most', 'major', 'word', 'processing', 'applications', 'is', 'broadly', 'similar', 'However', 'during', 'the', 'era', 'when', 'school', 'assignments', 'were', 'done', 'in'], ['handwriting', 'or', 'with', 'typewriters', 'the', 'rules', 'for', 'these', 'definitions', 'often', 'differed', 'from', 'todays', 'consensus'], ['Most', 'importantly', 'many', 'students', 'were', 'drilled', 'on', 'the', 'rule', 'that', 'certain', 'words', \"don't\", 'count', 'usually', 'articles', 'namely', 'a', 'an', 'the', 'but'], ['sometimes', 'also', 'others', 'such', 'as', 'conjunctions', 'for', 'example', 'and', 'or', 'but', 'and', 'some', 'prepositions', 'usually', 'to', 'of', 'Hyphenated', 'permanent'], ['compounds', 'such', 'as', 'follow', 'up', 'noun', 'or', 'long', 'term', 'adjective', 'were', 'counted', 'as', 'one', 'word', 'To', 'save', 'the', 'time', 'and', 'effort', 'of', 'counting'], ['word', 'by', 'word', 'often', 'a', 'rule', 'of', 'thumb', 'for', 'the', 'average', 'number', 'of', 'words', 'per', 'line', 'was', 'used', 'such', 'as', '10', 'words', 'per', 'line', 'These', 'rules'], ['have', 'fallen', 'by', 'the', 'wayside', 'in', 'the', 'word', 'processing', 'era', 'the', 'word', 'count', 'feature', 'of', 'such', 'software', 'which', 'follows', 'the', 'text'], ['segmentation', 'rules', 'mentioned', 'earlier', 'is', 'now', 'the', 'standard', 'arbiter', 'because', 'it', 'is', 'largely', 'consistent', 'across', 'documents', 'and'], ['applications', 'and', 'because', 'it', 'is', 'fast', 'effortless', 'and', 'costless', 'already', 'included', 'with', 'the', 'application', 'As', 'for', 'which', 'sections', 'of'], ['a', 'document', 'count', 'toward', 'the', 'total', 'such', 'as', 'footnotes', 'endnotes', 'abstracts', 'reference', 'lists', 'and', 'bibliographies', 'tables', 'figure'], ['captions', 'hidden', 'text', 'the', 'person', 'in', 'charge', 'teacher', 'client', 'can', 'define', 'their', 'choice', 'and', 'users', 'students', 'workers', 'can', 'simply'], ['select', 'or', 'exclude', 'the', 'elements', 'accordingly', 'and', 'watch', 'the', 'word', 'count', 'automatically', 'update', 'Software', 'Modern', 'web', 'browsers'], ['support', 'word', 'counting', 'via', 'extensions', 'via', 'a', 'JavaScript', 'bookmarklet', 'or', 'a', 'script', 'that', 'is', 'hosted', 'in', 'a', 'website', 'Most', 'word'], ['processors', 'can', 'also', 'count', 'words', 'Unix', 'like', 'systems', 'include', 'a', 'program', 'wc', 'specifically', 'for', 'word', 'counting'], ['As', 'explained', 'earlier', 'different', 'word', 'counting', 'programs', 'may', 'give', 'varying', 'results', 'depending', 'on', 'the', 'text', 'segmentation', 'rule'], ['details', 'The', 'exact', 'number', 'of', 'words', 'often', 'is', 'not', 'a', 'strict', 'requirement', 'thus', 'the', 'variation', 'is', 'acceptable'], ['In', 'fiction', 'Novelist', 'Jane', 'Smiley', 'suggests', 'that', 'length', 'is', 'an', 'important', 'quality', 'of', 'the', 'novel', 'However', 'novels', 'can', 'vary'], ['tremendously', 'in', 'length', 'Smiley', 'lists', 'novels', 'as', 'typically', 'being', 'between', 'and', 'words', 'while', 'National', 'Novel', 'Writing', 'Month'], ['requires', 'its', 'novels', 'to', 'be', 'at', 'least', 'words', 'There', 'are', 'no', 'firm', 'rules', 'for', 'example', 'the', 'boundary', 'between', 'a', 'novella', 'and', 'a', 'novel'], ['is', 'arbitrary', 'and', 'a', 'literary', 'work', 'may', 'be', 'difficult', 'to', 'categorise', 'But', 'while', 'the', 'length', 'of', 'a', 'novel', 'is', 'to', 'a', 'large', 'extent', 'up'], ['to', 'its', 'writer', 'lengths', 'may', 'also', 'vary', 'by', 'subgenre', 'many', 'chapter', 'books', 'for', 'children', 'start', 'at', 'a', 'length', 'of', 'about', 'words', 'and', 'a'], ['typical', 'mystery', 'novel', 'might', 'be', 'in', 'the', 'to', 'word', 'range', 'while', 'a', 'thriller', 'could', 'be', 'over', 'words'], ['The', 'Science', 'Fiction', 'and', 'Fantasy', 'Writers', 'of', 'America', 'specifies', 'word', 'lengths', 'for', 'each', 'category', 'of', 'its', 'Nebula', 'award', 'categories'], ['Classification', 'Word', 'count', 'Novel', 'over', 'words', 'Novella', 'to', 'words', 'Novelette', 'to', 'words', 'Short', 'story', 'under', 'words'], ['In', 'non', 'fiction', 'The', 'acceptable', 'length', 'of', 'an', 'academic', 'dissertation', 'varies', 'greatly', 'dependent', 'predominantly', 'on', 'the', 'subject'], ['Numerous', 'American', 'universities', 'limit', 'Ph.D.', 'dissertations', 'to', 'at', 'most', 'words', 'barring', 'special', 'permission', 'for', 'exceeding', 'this', 'limit'], []]\n",
            "\n",
            "collection of words, flattened:\n",
            "['word', 'count', 'from', 'wikipedia', 'the', 'free', 'encyclopedia', 'the', 'word', 'count', 'is', 'the', 'number', 'of', 'words', 'in', 'a', 'document', 'or', 'passage', 'of', 'text', 'word', 'counting', 'may', 'be', 'needed', 'when', 'a', 'text', 'is', 'required', 'to', 'stay', 'within', 'certain', 'numbers', 'of', 'words', 'this', 'may', 'particularly', 'be', 'the', 'case', 'in', 'academia', 'legal', 'proceedings', 'journalism', 'and', 'advertising', 'word', 'count', 'is', 'commonly', 'used', 'by', 'translators', 'to', 'determine', 'the', 'price', 'for', 'the', 'translation', 'job', 'word', 'counts', 'may', 'also', 'be', 'used', 'to', 'calculate', 'measures', 'of', 'readability', 'and', 'to', 'measure', 'typing', 'and', 'reading', 'speeds', 'usually', 'in', 'words', 'per', 'minute', 'when', 'converting', 'character', 'counts', 'to', 'words', 'a', 'measure', 'of', 'five', 'or', 'six', 'characters', 'to', 'a', 'word', 'is', 'generally', 'used', 'contents', 'details', 'and', 'variations', 'of', 'definition', 'software', 'in', 'fiction', 'in', 'non', 'fiction', 'see', 'also', 'references', 'sources', 'external', 'links', 'details', 'and', 'variations', 'of', 'definition', 'this', 'section', 'does', 'not', 'cite', 'any', 'references', 'or', 'sources', 'please', 'help', 'improve', 'this', 'section', 'by', 'adding', 'citations', 'to', 'reliable', 'sources', 'unsourced', 'material', 'may', 'be', 'challenged', 'and', 'removed', 'variations', 'in', 'the', 'operational', 'definitions', 'of', 'how', 'to', 'count', 'the', 'words', 'can', 'occur', 'namely', 'what', 'counts', 'as', 'a', 'word', 'and', 'which', 'words', \"don't\", 'count', 'toward', 'the', 'total', 'however', 'especially', 'since', 'the', 'advent', 'of', 'widespread', 'word', 'processing', 'there', 'is', 'a', 'broad', 'consensus', 'on', 'these', 'operational', 'definitions', 'and', 'hence', 'the', 'bottom', 'line', 'integer', 'result', 'the', 'consensus', 'is', 'to', 'accept', 'the', 'text', 'segmentation', 'rules', 'generally', 'found', 'in', 'most', 'word', 'processing', 'software', 'including', 'how', 'word', 'boundaries', 'are', 'determined', 'which', 'depends', 'on', 'how', 'word', 'dividers', 'are', 'defined', 'the', 'first', 'trait', 'of', 'that', 'definition', 'is', 'that', 'a', 'space', 'any', 'of', 'various', 'whitespace', 'characters', 'such', 'as', 'a', 'regular', 'word', 'space', 'an', 'em', 'space', 'or', 'a', 'tab', 'character', 'is', 'a', 'word', 'divider', 'usually', 'a', 'hyphen', 'or', 'a', 'slash', 'is', 'too', 'different', 'word', 'counting', 'programs', 'may', 'give', 'varying', 'results', 'depending', 'on', 'the', 'text', 'segmentation', 'rule', 'details', 'and', 'on', 'whether', 'words', 'outside', 'the', 'main', 'text', 'such', 'as', 'footnotes', 'endnotes', 'or', 'hidden', 'text)', 'are', 'counted', 'but', 'the', 'behavior', 'of', 'most', 'major', 'word', 'processing', 'applications', 'is', 'broadly', 'similar', 'however', 'during', 'the', 'era', 'when', 'school', 'assignments', 'were', 'done', 'in', 'handwriting', 'or', 'with', 'typewriters', 'the', 'rules', 'for', 'these', 'definitions', 'often', 'differed', 'from', 'todays', 'consensus', 'most', 'importantly', 'many', 'students', 'were', 'drilled', 'on', 'the', 'rule', 'that', 'certain', 'words', \"don't\", 'count', 'usually', 'articles', 'namely', 'a', 'an', 'the', 'but', 'sometimes', 'also', 'others', 'such', 'as', 'conjunctions', 'for', 'example', 'and', 'or', 'but', 'and', 'some', 'prepositions', 'usually', 'to', 'of', 'hyphenated', 'permanent', 'compounds', 'such', 'as', 'follow', 'up', 'noun', 'or', 'long', 'term', 'adjective', 'were', 'counted', 'as', 'one', 'word', 'to', 'save', 'the', 'time', 'and', 'effort', 'of', 'counting', 'word', 'by', 'word', 'often', 'a', 'rule', 'of', 'thumb', 'for', 'the', 'average', 'number', 'of', 'words', 'per', 'line', 'was', 'used', 'such', 'as', '10', 'words', 'per', 'line', 'these', 'rules', 'have', 'fallen', 'by', 'the', 'wayside', 'in', 'the', 'word', 'processing', 'era', 'the', 'word', 'count', 'feature', 'of', 'such', 'software', 'which', 'follows', 'the', 'text', 'segmentation', 'rules', 'mentioned', 'earlier', 'is', 'now', 'the', 'standard', 'arbiter', 'because', 'it', 'is', 'largely', 'consistent', 'across', 'documents', 'and', 'applications', 'and', 'because', 'it', 'is', 'fast', 'effortless', 'and', 'costless', 'already', 'included', 'with', 'the', 'application', 'as', 'for', 'which', 'sections', 'of', 'a', 'document', 'count', 'toward', 'the', 'total', 'such', 'as', 'footnotes', 'endnotes', 'abstracts', 'reference', 'lists', 'and', 'bibliographies', 'tables', 'figure', 'captions', 'hidden', 'text', 'the', 'person', 'in', 'charge', 'teacher', 'client', 'can', 'define', 'their', 'choice', 'and', 'users', 'students', 'workers', 'can', 'simply', 'select', 'or', 'exclude', 'the', 'elements', 'accordingly', 'and', 'watch', 'the', 'word', 'count', 'automatically', 'update', 'software', 'modern', 'web', 'browsers', 'support', 'word', 'counting', 'via', 'extensions', 'via', 'a', 'javascript', 'bookmarklet', 'or', 'a', 'script', 'that', 'is', 'hosted', 'in', 'a', 'website', 'most', 'word', 'processors', 'can', 'also', 'count', 'words', 'unix', 'like', 'systems', 'include', 'a', 'program', 'wc', 'specifically', 'for', 'word', 'counting', 'as', 'explained', 'earlier', 'different', 'word', 'counting', 'programs', 'may', 'give', 'varying', 'results', 'depending', 'on', 'the', 'text', 'segmentation', 'rule', 'details', 'the', 'exact', 'number', 'of', 'words', 'often', 'is', 'not', 'a', 'strict', 'requirement', 'thus', 'the', 'variation', 'is', 'acceptable', 'in', 'fiction', 'novelist', 'jane', 'smiley', 'suggests', 'that', 'length', 'is', 'an', 'important', 'quality', 'of', 'the', 'novel', 'however', 'novels', 'can', 'vary', 'tremendously', 'in', 'length', 'smiley', 'lists', 'novels', 'as', 'typically', 'being', 'between', 'and', 'words', 'while', 'national', 'novel', 'writing', 'month', 'requires', 'its', 'novels', 'to', 'be', 'at', 'least', 'words', 'there', 'are', 'no', 'firm', 'rules', 'for', 'example', 'the', 'boundary', 'between', 'a', 'novella', 'and', 'a', 'novel', 'is', 'arbitrary', 'and', 'a', 'literary', 'work', 'may', 'be', 'difficult', 'to', 'categorise', 'but', 'while', 'the', 'length', 'of', 'a', 'novel', 'is', 'to', 'a', 'large', 'extent', 'up', 'to', 'its', 'writer', 'lengths', 'may', 'also', 'vary', 'by', 'subgenre', 'many', 'chapter', 'books', 'for', 'children', 'start', 'at', 'a', 'length', 'of', 'about', 'words', 'and', 'a', 'typical', 'mystery', 'novel', 'might', 'be', 'in', 'the', 'to', 'word', 'range', 'while', 'a', 'thriller', 'could', 'be', 'over', 'words', 'the', 'science', 'fiction', 'and', 'fantasy', 'writers', 'of', 'america', 'specifies', 'word', 'lengths', 'for', 'each', 'category', 'of', 'its', 'nebula', 'award', 'categories', 'classification', 'word', 'count', 'novel', 'over', 'words', 'novella', 'to', 'words', 'novelette', 'to', 'words', 'short', 'story', 'under', 'words', 'in', 'non', 'fiction', 'the', 'acceptable', 'length', 'of', 'an', 'academic', 'dissertation', 'varies', 'greatly', 'dependent', 'predominantly', 'on', 'the', 'subject', 'numerous', 'american', 'universities', 'limit', 'ph.d.', 'dissertations', 'to', 'at', 'most', 'words', 'barring', 'special', 'permission', 'for', 'exceeding', 'this', 'limit']\n",
            "\n",
            "counts of words\n",
            "defaultdict(<class 'int'>, {'word': 28, 'count': 11, 'from': 2, 'wikipedia': 1, 'the': 43, 'free': 1, 'encyclopedia': 1, 'is': 19, 'number': 3, 'of': 25, 'words': 21, 'in': 15, 'a': 28, 'document': 2, 'or': 11, 'passage': 1, 'text': 8, 'counting': 6, 'may': 8, 'be': 8, 'needed': 1, 'when': 3, 'required': 1, 'to': 19, 'stay': 1, 'within': 1, 'certain': 2, 'numbers': 1, 'this': 4, 'particularly': 1, 'case': 1, 'academia': 1, 'legal': 1, 'proceedings': 1, 'journalism': 1, 'and': 23, 'advertising': 1, 'commonly': 1, 'used': 4, 'by': 5, 'translators': 1, 'determine': 1, 'price': 1, 'for': 10, 'translation': 1, 'job': 1, 'counts': 3, 'also': 5, 'calculate': 1, 'measures': 1, 'readability': 1, 'measure': 2, 'typing': 1, 'reading': 1, 'speeds': 1, 'usually': 4, 'per': 3, 'minute': 1, 'converting': 1, 'character': 2, 'five': 1, 'six': 1, 'characters': 2, 'generally': 2, 'contents': 1, 'details': 4, 'variations': 3, 'definition': 3, 'software': 4, 'fiction': 5, 'non': 2, 'see': 1, 'references': 2, 'sources': 3, 'external': 1, 'links': 1, 'section': 2, 'does': 1, 'not': 2, 'cite': 1, 'any': 2, 'please': 1, 'help': 1, 'improve': 1, 'adding': 1, 'citations': 1, 'reliable': 1, 'unsourced': 1, 'material': 1, 'challenged': 1, 'removed': 1, 'operational': 2, 'definitions': 3, 'how': 3, 'can': 5, 'occur': 1, 'namely': 2, 'what': 1, 'as': 11, 'which': 4, \"don't\": 2, 'toward': 2, 'total': 2, 'however': 3, 'especially': 1, 'since': 1, 'advent': 1, 'widespread': 1, 'processing': 4, 'there': 2, 'broad': 1, 'consensus': 3, 'on': 7, 'these': 3, 'hence': 1, 'bottom': 1, 'line': 3, 'integer': 1, 'result': 1, 'accept': 1, 'segmentation': 4, 'rules': 5, 'found': 1, 'most': 5, 'including': 1, 'boundaries': 1, 'are': 4, 'determined': 1, 'depends': 1, 'dividers': 1, 'defined': 1, 'first': 1, 'trait': 1, 'that': 5, 'space': 3, 'various': 1, 'whitespace': 1, 'such': 7, 'regular': 1, 'an': 4, 'em': 1, 'tab': 1, 'divider': 1, 'hyphen': 1, 'slash': 1, 'too': 1, 'different': 2, 'programs': 2, 'give': 2, 'varying': 2, 'results': 2, 'depending': 2, 'rule': 4, 'whether': 1, 'outside': 1, 'main': 1, 'footnotes': 2, 'endnotes': 2, 'hidden': 2, 'text)': 1, 'counted': 2, 'but': 4, 'behavior': 1, 'major': 1, 'applications': 2, 'broadly': 1, 'similar': 1, 'during': 1, 'era': 2, 'school': 1, 'assignments': 1, 'were': 3, 'done': 1, 'handwriting': 1, 'with': 2, 'typewriters': 1, 'often': 3, 'differed': 1, 'todays': 1, 'importantly': 1, 'many': 2, 'students': 2, 'drilled': 1, 'articles': 1, 'sometimes': 1, 'others': 1, 'conjunctions': 1, 'example': 2, 'some': 1, 'prepositions': 1, 'hyphenated': 1, 'permanent': 1, 'compounds': 1, 'follow': 1, 'up': 2, 'noun': 1, 'long': 1, 'term': 1, 'adjective': 1, 'one': 1, 'save': 1, 'time': 1, 'effort': 1, 'thumb': 1, 'average': 1, 'was': 1, '10': 1, 'have': 1, 'fallen': 1, 'wayside': 1, 'feature': 1, 'follows': 1, 'mentioned': 1, 'earlier': 2, 'now': 1, 'standard': 1, 'arbiter': 1, 'because': 2, 'it': 2, 'largely': 1, 'consistent': 1, 'across': 1, 'documents': 1, 'fast': 1, 'effortless': 1, 'costless': 1, 'already': 1, 'included': 1, 'application': 1, 'sections': 1, 'abstracts': 1, 'reference': 1, 'lists': 2, 'bibliographies': 1, 'tables': 1, 'figure': 1, 'captions': 1, 'person': 1, 'charge': 1, 'teacher': 1, 'client': 1, 'define': 1, 'their': 1, 'choice': 1, 'users': 1, 'workers': 1, 'simply': 1, 'select': 1, 'exclude': 1, 'elements': 1, 'accordingly': 1, 'watch': 1, 'automatically': 1, 'update': 1, 'modern': 1, 'web': 1, 'browsers': 1, 'support': 1, 'via': 2, 'extensions': 1, 'javascript': 1, 'bookmarklet': 1, 'script': 1, 'hosted': 1, 'website': 1, 'processors': 1, 'unix': 1, 'like': 1, 'systems': 1, 'include': 1, 'program': 1, 'wc': 1, 'specifically': 1, 'explained': 1, 'exact': 1, 'strict': 1, 'requirement': 1, 'thus': 1, 'variation': 1, 'acceptable': 2, 'novelist': 1, 'jane': 1, 'smiley': 2, 'suggests': 1, 'length': 5, 'important': 1, 'quality': 1, 'novel': 6, 'novels': 3, 'vary': 2, 'tremendously': 1, 'typically': 1, 'being': 1, 'between': 2, 'while': 3, 'national': 1, 'writing': 1, 'month': 1, 'requires': 1, 'its': 3, 'at': 3, 'least': 1, 'no': 1, 'firm': 1, 'boundary': 1, 'novella': 2, 'arbitrary': 1, 'literary': 1, 'work': 1, 'difficult': 1, 'categorise': 1, 'large': 1, 'extent': 1, 'writer': 1, 'lengths': 2, 'subgenre': 1, 'chapter': 1, 'books': 1, 'children': 1, 'start': 1, 'about': 1, 'typical': 1, 'mystery': 1, 'might': 1, 'range': 1, 'thriller': 1, 'could': 1, 'over': 2, 'science': 1, 'fantasy': 1, 'writers': 1, 'america': 1, 'specifies': 1, 'each': 1, 'category': 1, 'nebula': 1, 'award': 1, 'categories': 1, 'classification': 1, 'novelette': 1, 'short': 1, 'story': 1, 'under': 1, 'academic': 1, 'dissertation': 1, 'varies': 1, 'greatly': 1, 'dependent': 1, 'predominantly': 1, 'subject': 1, 'numerous': 1, 'american': 1, 'universities': 1, 'limit': 2, 'ph.d.': 1, 'dissertations': 1, 'barring': 1, 'special': 1, 'permission': 1, 'exceeding': 1})\n",
            "\n",
            "collection of pairs\n",
            "[('word', 1), ('count', 1), ('from', 1), ('wikipedia', 1), ('the', 1), ('free', 1), ('encyclopedia', 1), ('the', 1), ('word', 1), ('count', 1), ('is', 1), ('the', 1), ('number', 1), ('of', 1), ('words', 1), ('in', 1), ('a', 1), ('document', 1), ('or', 1), ('passage', 1), ('of', 1), ('text', 1), ('word', 1), ('counting', 1), ('may', 1), ('be', 1), ('needed', 1), ('when', 1), ('a', 1), ('text', 1), ('is', 1), ('required', 1), ('to', 1), ('stay', 1), ('within', 1), ('certain', 1), ('numbers', 1), ('of', 1), ('words', 1), ('this', 1), ('may', 1), ('particularly', 1), ('be', 1), ('the', 1), ('case', 1), ('in', 1), ('academia', 1), ('legal', 1), ('proceedings', 1), ('journalism', 1), ('and', 1), ('advertising', 1), ('word', 1), ('count', 1), ('is', 1), ('commonly', 1), ('used', 1), ('by', 1), ('translators', 1), ('to', 1), ('determine', 1), ('the', 1), ('price', 1), ('for', 1), ('the', 1), ('translation', 1), ('job', 1), ('word', 1), ('counts', 1), ('may', 1), ('also', 1), ('be', 1), ('used', 1), ('to', 1), ('calculate', 1), ('measures', 1), ('of', 1), ('readability', 1), ('and', 1), ('to', 1), ('measure', 1), ('typing', 1), ('and', 1), ('reading', 1), ('speeds', 1), ('usually', 1), ('in', 1), ('words', 1), ('per', 1), ('minute', 1), ('when', 1), ('converting', 1), ('character', 1), ('counts', 1), ('to', 1), ('words', 1), ('a', 1), ('measure', 1), ('of', 1), ('five', 1), ('or', 1), ('six', 1), ('characters', 1), ('to', 1), ('a', 1), ('word', 1), ('is', 1), ('generally', 1), ('used', 1), ('contents', 1), ('details', 1), ('and', 1), ('variations', 1), ('of', 1), ('definition', 1), ('software', 1), ('in', 1), ('fiction', 1), ('in', 1), ('non', 1), ('fiction', 1), ('see', 1), ('also', 1), ('references', 1), ('sources', 1), ('external', 1), ('links', 1), ('details', 1), ('and', 1), ('variations', 1), ('of', 1), ('definition', 1), ('this', 1), ('section', 1), ('does', 1), ('not', 1), ('cite', 1), ('any', 1), ('references', 1), ('or', 1), ('sources', 1), ('please', 1), ('help', 1), ('improve', 1), ('this', 1), ('section', 1), ('by', 1), ('adding', 1), ('citations', 1), ('to', 1), ('reliable', 1), ('sources', 1), ('unsourced', 1), ('material', 1), ('may', 1), ('be', 1), ('challenged', 1), ('and', 1), ('removed', 1), ('variations', 1), ('in', 1), ('the', 1), ('operational', 1), ('definitions', 1), ('of', 1), ('how', 1), ('to', 1), ('count', 1), ('the', 1), ('words', 1), ('can', 1), ('occur', 1), ('namely', 1), ('what', 1), ('counts', 1), ('as', 1), ('a', 1), ('word', 1), ('and', 1), ('which', 1), ('words', 1), (\"don't\", 1), ('count', 1), ('toward', 1), ('the', 1), ('total', 1), ('however', 1), ('especially', 1), ('since', 1), ('the', 1), ('advent', 1), ('of', 1), ('widespread', 1), ('word', 1), ('processing', 1), ('there', 1), ('is', 1), ('a', 1), ('broad', 1), ('consensus', 1), ('on', 1), ('these', 1), ('operational', 1), ('definitions', 1), ('and', 1), ('hence', 1), ('the', 1), ('bottom', 1), ('line', 1), ('integer', 1), ('result', 1), ('the', 1), ('consensus', 1), ('is', 1), ('to', 1), ('accept', 1), ('the', 1), ('text', 1), ('segmentation', 1), ('rules', 1), ('generally', 1), ('found', 1), ('in', 1), ('most', 1), ('word', 1), ('processing', 1), ('software', 1), ('including', 1), ('how', 1), ('word', 1), ('boundaries', 1), ('are', 1), ('determined', 1), ('which', 1), ('depends', 1), ('on', 1), ('how', 1), ('word', 1), ('dividers', 1), ('are', 1), ('defined', 1), ('the', 1), ('first', 1), ('trait', 1), ('of', 1), ('that', 1), ('definition', 1), ('is', 1), ('that', 1), ('a', 1), ('space', 1), ('any', 1), ('of', 1), ('various', 1), ('whitespace', 1), ('characters', 1), ('such', 1), ('as', 1), ('a', 1), ('regular', 1), ('word', 1), ('space', 1), ('an', 1), ('em', 1), ('space', 1), ('or', 1), ('a', 1), ('tab', 1), ('character', 1), ('is', 1), ('a', 1), ('word', 1), ('divider', 1), ('usually', 1), ('a', 1), ('hyphen', 1), ('or', 1), ('a', 1), ('slash', 1), ('is', 1), ('too', 1), ('different', 1), ('word', 1), ('counting', 1), ('programs', 1), ('may', 1), ('give', 1), ('varying', 1), ('results', 1), ('depending', 1), ('on', 1), ('the', 1), ('text', 1), ('segmentation', 1), ('rule', 1), ('details', 1), ('and', 1), ('on', 1), ('whether', 1), ('words', 1), ('outside', 1), ('the', 1), ('main', 1), ('text', 1), ('such', 1), ('as', 1), ('footnotes', 1), ('endnotes', 1), ('or', 1), ('hidden', 1), ('text)', 1), ('are', 1), ('counted', 1), ('but', 1), ('the', 1), ('behavior', 1), ('of', 1), ('most', 1), ('major', 1), ('word', 1), ('processing', 1), ('applications', 1), ('is', 1), ('broadly', 1), ('similar', 1), ('however', 1), ('during', 1), ('the', 1), ('era', 1), ('when', 1), ('school', 1), ('assignments', 1), ('were', 1), ('done', 1), ('in', 1), ('handwriting', 1), ('or', 1), ('with', 1), ('typewriters', 1), ('the', 1), ('rules', 1), ('for', 1), ('these', 1), ('definitions', 1), ('often', 1), ('differed', 1), ('from', 1), ('todays', 1), ('consensus', 1), ('most', 1), ('importantly', 1), ('many', 1), ('students', 1), ('were', 1), ('drilled', 1), ('on', 1), ('the', 1), ('rule', 1), ('that', 1), ('certain', 1), ('words', 1), (\"don't\", 1), ('count', 1), ('usually', 1), ('articles', 1), ('namely', 1), ('a', 1), ('an', 1), ('the', 1), ('but', 1), ('sometimes', 1), ('also', 1), ('others', 1), ('such', 1), ('as', 1), ('conjunctions', 1), ('for', 1), ('example', 1), ('and', 1), ('or', 1), ('but', 1), ('and', 1), ('some', 1), ('prepositions', 1), ('usually', 1), ('to', 1), ('of', 1), ('hyphenated', 1), ('permanent', 1), ('compounds', 1), ('such', 1), ('as', 1), ('follow', 1), ('up', 1), ('noun', 1), ('or', 1), ('long', 1), ('term', 1), ('adjective', 1), ('were', 1), ('counted', 1), ('as', 1), ('one', 1), ('word', 1), ('to', 1), ('save', 1), ('the', 1), ('time', 1), ('and', 1), ('effort', 1), ('of', 1), ('counting', 1), ('word', 1), ('by', 1), ('word', 1), ('often', 1), ('a', 1), ('rule', 1), ('of', 1), ('thumb', 1), ('for', 1), ('the', 1), ('average', 1), ('number', 1), ('of', 1), ('words', 1), ('per', 1), ('line', 1), ('was', 1), ('used', 1), ('such', 1), ('as', 1), ('10', 1), ('words', 1), ('per', 1), ('line', 1), ('these', 1), ('rules', 1), ('have', 1), ('fallen', 1), ('by', 1), ('the', 1), ('wayside', 1), ('in', 1), ('the', 1), ('word', 1), ('processing', 1), ('era', 1), ('the', 1), ('word', 1), ('count', 1), ('feature', 1), ('of', 1), ('such', 1), ('software', 1), ('which', 1), ('follows', 1), ('the', 1), ('text', 1), ('segmentation', 1), ('rules', 1), ('mentioned', 1), ('earlier', 1), ('is', 1), ('now', 1), ('the', 1), ('standard', 1), ('arbiter', 1), ('because', 1), ('it', 1), ('is', 1), ('largely', 1), ('consistent', 1), ('across', 1), ('documents', 1), ('and', 1), ('applications', 1), ('and', 1), ('because', 1), ('it', 1), ('is', 1), ('fast', 1), ('effortless', 1), ('and', 1), ('costless', 1), ('already', 1), ('included', 1), ('with', 1), ('the', 1), ('application', 1), ('as', 1), ('for', 1), ('which', 1), ('sections', 1), ('of', 1), ('a', 1), ('document', 1), ('count', 1), ('toward', 1), ('the', 1), ('total', 1), ('such', 1), ('as', 1), ('footnotes', 1), ('endnotes', 1), ('abstracts', 1), ('reference', 1), ('lists', 1), ('and', 1), ('bibliographies', 1), ('tables', 1), ('figure', 1), ('captions', 1), ('hidden', 1), ('text', 1), ('the', 1), ('person', 1), ('in', 1), ('charge', 1), ('teacher', 1), ('client', 1), ('can', 1), ('define', 1), ('their', 1), ('choice', 1), ('and', 1), ('users', 1), ('students', 1), ('workers', 1), ('can', 1), ('simply', 1), ('select', 1), ('or', 1), ('exclude', 1), ('the', 1), ('elements', 1), ('accordingly', 1), ('and', 1), ('watch', 1), ('the', 1), ('word', 1), ('count', 1), ('automatically', 1), ('update', 1), ('software', 1), ('modern', 1), ('web', 1), ('browsers', 1), ('support', 1), ('word', 1), ('counting', 1), ('via', 1), ('extensions', 1), ('via', 1), ('a', 1), ('javascript', 1), ('bookmarklet', 1), ('or', 1), ('a', 1), ('script', 1), ('that', 1), ('is', 1), ('hosted', 1), ('in', 1), ('a', 1), ('website', 1), ('most', 1), ('word', 1), ('processors', 1), ('can', 1), ('also', 1), ('count', 1), ('words', 1), ('unix', 1), ('like', 1), ('systems', 1), ('include', 1), ('a', 1), ('program', 1), ('wc', 1), ('specifically', 1), ('for', 1), ('word', 1), ('counting', 1), ('as', 1), ('explained', 1), ('earlier', 1), ('different', 1), ('word', 1), ('counting', 1), ('programs', 1), ('may', 1), ('give', 1), ('varying', 1), ('results', 1), ('depending', 1), ('on', 1), ('the', 1), ('text', 1), ('segmentation', 1), ('rule', 1), ('details', 1), ('the', 1), ('exact', 1), ('number', 1), ('of', 1), ('words', 1), ('often', 1), ('is', 1), ('not', 1), ('a', 1), ('strict', 1), ('requirement', 1), ('thus', 1), ('the', 1), ('variation', 1), ('is', 1), ('acceptable', 1), ('in', 1), ('fiction', 1), ('novelist', 1), ('jane', 1), ('smiley', 1), ('suggests', 1), ('that', 1), ('length', 1), ('is', 1), ('an', 1), ('important', 1), ('quality', 1), ('of', 1), ('the', 1), ('novel', 1), ('however', 1), ('novels', 1), ('can', 1), ('vary', 1), ('tremendously', 1), ('in', 1), ('length', 1), ('smiley', 1), ('lists', 1), ('novels', 1), ('as', 1), ('typically', 1), ('being', 1), ('between', 1), ('and', 1), ('words', 1), ('while', 1), ('national', 1), ('novel', 1), ('writing', 1), ('month', 1), ('requires', 1), ('its', 1), ('novels', 1), ('to', 1), ('be', 1), ('at', 1), ('least', 1), ('words', 1), ('there', 1), ('are', 1), ('no', 1), ('firm', 1), ('rules', 1), ('for', 1), ('example', 1), ('the', 1), ('boundary', 1), ('between', 1), ('a', 1), ('novella', 1), ('and', 1), ('a', 1), ('novel', 1), ('is', 1), ('arbitrary', 1), ('and', 1), ('a', 1), ('literary', 1), ('work', 1), ('may', 1), ('be', 1), ('difficult', 1), ('to', 1), ('categorise', 1), ('but', 1), ('while', 1), ('the', 1), ('length', 1), ('of', 1), ('a', 1), ('novel', 1), ('is', 1), ('to', 1), ('a', 1), ('large', 1), ('extent', 1), ('up', 1), ('to', 1), ('its', 1), ('writer', 1), ('lengths', 1), ('may', 1), ('also', 1), ('vary', 1), ('by', 1), ('subgenre', 1), ('many', 1), ('chapter', 1), ('books', 1), ('for', 1), ('children', 1), ('start', 1), ('at', 1), ('a', 1), ('length', 1), ('of', 1), ('about', 1), ('words', 1), ('and', 1), ('a', 1), ('typical', 1), ('mystery', 1), ('novel', 1), ('might', 1), ('be', 1), ('in', 1), ('the', 1), ('to', 1), ('word', 1), ('range', 1), ('while', 1), ('a', 1), ('thriller', 1), ('could', 1), ('be', 1), ('over', 1), ('words', 1), ('the', 1), ('science', 1), ('fiction', 1), ('and', 1), ('fantasy', 1), ('writers', 1), ('of', 1), ('america', 1), ('specifies', 1), ('word', 1), ('lengths', 1), ('for', 1), ('each', 1), ('category', 1), ('of', 1), ('its', 1), ('nebula', 1), ('award', 1), ('categories', 1), ('classification', 1), ('word', 1), ('count', 1), ('novel', 1), ('over', 1), ('words', 1), ('novella', 1), ('to', 1), ('words', 1), ('novelette', 1), ('to', 1), ('words', 1), ('short', 1), ('story', 1), ('under', 1), ('words', 1), ('in', 1), ('non', 1), ('fiction', 1), ('the', 1), ('acceptable', 1), ('length', 1), ('of', 1), ('an', 1), ('academic', 1), ('dissertation', 1), ('varies', 1), ('greatly', 1), ('dependent', 1), ('predominantly', 1), ('on', 1), ('the', 1), ('subject', 1), ('numerous', 1), ('american', 1), ('universities', 1), ('limit', 1), ('ph.d.', 1), ('dissertations', 1), ('to', 1), ('at', 1), ('most', 1), ('words', 1), ('barring', 1), ('special', 1), ('permission', 1), ('for', 1), ('exceeding', 1), ('this', 1), ('limit', 1)]\n"
          ]
        }
      ]
    },
    {
      "cell_type": "code",
      "source": [
        "pairs = sc.parallelize([\n",
        "    ('dog', 1), ('cat', 1), ('dog', 3), ('cat', 5), ('fish', 1)\n",
        "])\n",
        "counts = pairs.countByKey()  # count the occurance of keys\n",
        "print(counts)\n",
        "counts = pairs.reduceByKey(lambda a, b: a + b)  # sum the counts of each keys\n",
        "print(counts.collect())"
      ],
      "metadata": {
        "colab": {
          "base_uri": "https://localhost:8080/"
        },
        "id": "relu3qmldhhh",
        "outputId": "a0f0a47f-b5c0-486f-866a-7759965ca977"
      },
      "execution_count": 39,
      "outputs": [
        {
          "output_type": "stream",
          "name": "stdout",
          "text": [
            "defaultdict(<class 'int'>, {'dog': 2, 'cat': 2, 'fish': 1})\n",
            "[('cat', 6), ('fish', 1), ('dog', 4)]\n"
          ]
        }
      ]
    }
  ]
}